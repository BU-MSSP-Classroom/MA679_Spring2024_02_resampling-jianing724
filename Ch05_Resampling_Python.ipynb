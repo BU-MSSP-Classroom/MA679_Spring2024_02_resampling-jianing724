{
 "cells": [
  {
   "cell_type": "markdown",
   "id": "ac385101",
   "metadata": {},
   "source": [
    "# Class Workbook"
   ]
  },
  {
   "cell_type": "markdown",
   "id": "7d865134",
   "metadata": {},
   "source": [
    "## In class activity"
   ]
  },
  {
   "cell_type": "code",
   "execution_count": 1,
   "id": "194cc60b",
   "metadata": {
    "kernel": "Python3",
    "tags": [
     "report_cell"
    ]
   },
   "outputs": [
    {
     "name": "stderr",
     "output_type": "stream",
     "text": [
      "/opt/anaconda3/lib/python3.9/site-packages/pandas/core/computation/expressions.py:21: UserWarning: Pandas requires version '2.8.4' or newer of 'numexpr' (version '2.8.1' currently installed).\n",
      "  from pandas.core.computation.check import NUMEXPR_INSTALLED\n",
      "/opt/anaconda3/lib/python3.9/site-packages/pandas/core/arrays/masked.py:60: UserWarning: Pandas requires version '1.3.6' or newer of 'bottleneck' (version '1.3.4' currently installed).\n",
      "  from pandas.core import (\n",
      "/var/folders/2n/62kb2_1x78d6bpf42ntcmynh0000gn/T/ipykernel_46818/3444118865.py:2: DeprecationWarning: \n",
      "Pyarrow will become a required dependency of pandas in the next major release of pandas (pandas 3.0),\n",
      "(to allow more performant data types, such as the Arrow string type, and better interoperability with other libraries)\n",
      "but was not found to be installed on your system.\n",
      "If this would cause problems for you,\n",
      "please provide us feedback at https://github.com/pandas-dev/pandas/issues/54466\n",
      "        \n",
      "  import pandas as pd\n",
      "/opt/anaconda3/lib/python3.9/site-packages/scipy/__init__.py:146: UserWarning: A NumPy version >=1.16.5 and <1.23.0 is required for this version of SciPy (detected version 1.26.3\n"
     ]
    }
   ],
   "source": [
    "import numpy as np\n",
    "import pandas as pd\n",
    "import math\n",
    "#import statsmodels.api as sm\n",
    "from plotnine import *\n",
    "import statsmodels.formula.api as sm\n",
    "from ISLP import load_data\n",
    "from ISLP.models import (ModelSpec as MS,\n",
    "                        summarize ,\n",
    "                        poly)"
   ]
  },
  {
   "cell_type": "markdown",
   "id": "d786799d",
   "metadata": {},
   "source": [
    "### Ames House Data"
   ]
  },
  {
   "cell_type": "code",
   "execution_count": 2,
   "id": "e1f933c5",
   "metadata": {
    "kernel": "Python3",
    "tags": [
     "report_cell"
    ]
   },
   "outputs": [],
   "source": [
    "ames_raw=pd.read_csv(\"ames_raw.csv\")"
   ]
  },
  {
   "cell_type": "markdown",
   "id": "837bd901",
   "metadata": {},
   "source": [
    "Let's revisit the AmesHousing data.  As we did in the previous class, I will split the data into before 2008 and after.  The data up to 2008 will be the training data and after 2008 will be the testing data."
   ]
  },
  {
   "cell_type": "code",
   "execution_count": 3,
   "id": "67c2a208",
   "metadata": {
    "kernel": "Python3",
    "tags": [
     "report_cell"
    ]
   },
   "outputs": [],
   "source": [
    "ames_raw_2009, ames_raw_2008= ames_raw.query('`Yr Sold`>=2008').copy(), ames_raw.query('`Yr Sold` <2008').copy()"
   ]
  },
  {
   "cell_type": "markdown",
   "id": "ae8516aa",
   "metadata": {},
   "source": [
    "* For the regression model fit, use bootstrap to compare the standard error estimates to the model based estimates.\n",
    "\n",
    "\n",
    "Your code:"
   ]
  },
  {
   "cell_type": "code",
   "execution_count": 4,
   "id": "5f2fafbb",
   "metadata": {
    "Rmd_chunk_options": "echo=TRUE",
    "kernel": "Python3",
    "tags": [
     "report_cell"
    ]
   },
   "outputs": [
    {
     "name": "stdout",
     "output_type": "stream",
     "text": [
      "The standard error estimate is 1537.8801\n",
      "The model based estimates is 1541.1314\n"
     ]
    }
   ],
   "source": [
    "import numpy as np\n",
    "import statsmodels.api as sm\n",
    "from ISLP import load_data\n",
    "from ISLP.models import (ModelSpec as MS,summarize, poly)\n",
    "from sklearn.model_selection import train_test_split\n",
    "from functools import partial\n",
    "from sklearn.model_selection import \\\n",
    "(cross_validate , KFold , ShuffleSplit)\n",
    "from sklearn.base import clone\n",
    "from ISLP.models import sklearn_sm\n",
    "from sklearn.linear_model import LinearRegression, Ridge \n",
    "from sklearn.utils import resample\n",
    "\n",
    "x_train = ames_raw_2008[['Gr Liv Area']]  \n",
    "y_train = ames_raw_2008['SalePrice']  \n",
    "\n",
    "# standard error estimates\n",
    "model = LinearRegression()\n",
    "model.fit(x_train, y_train)\n",
    "predictions = model.predict(x_train)\n",
    "model_se = np.sqrt(np.mean((y_train - predictions)**2)) / np.sqrt(len(y_train))\n",
    "\n",
    "# model based estimates\n",
    "bootstrap_se = []\n",
    "n_iterations = 1000\n",
    "for _ in range(n_iterations):\n",
    "    X_sample, y_sample = resample(x_train, y_train)\n",
    "    model.fit(X_sample, y_sample)\n",
    "    predictions_sample = model.predict(x_train)\n",
    "    se = np.sqrt(np.mean((y_train - predictions_sample)**2)) / np.sqrt(len(y_train))\n",
    "    bootstrap_se.append(se)\n",
    "mean_bootstrap_se = np.mean(bootstrap_se)\n",
    "print(f\"The standard error estimate is {model_se:.4f}\")\n",
    "print(f\"The model based estimates is {mean_bootstrap_se:.4f}\")\n",
    "\n"
   ]
  },
  {
   "cell_type": "markdown",
   "id": "c3e8bb5d",
   "metadata": {},
   "source": [
    "Your answer:\n",
    "\n",
    "~~~\n",
    "The standard error estimate is 1537.8801. The bootsrap model based estimate is 1541.4007. They are nearly the same. However, the bootsrap model based estimate is larger than standard error estimate, since it will improve the bias.\n",
    "\n",
    "\n",
    "\n",
    "~~~\n",
    "\n",
    "\n",
    "* Use cross validation  to decide which model has a good predictive accuracy.  Does the result hold true for the prediction of future data?\n",
    "\n",
    "Your code:"
   ]
  },
  {
   "cell_type": "code",
   "execution_count": 5,
   "id": "2fa22fc7",
   "metadata": {
    "Rmd_chunk_options": "echo=TRUE",
    "kernel": "Python3",
    "tags": [
     "report_cell"
    ]
   },
   "outputs": [
    {
     "name": "stdout",
     "output_type": "stream",
     "text": [
      "Linear Regression Average R² score: 0.4047\n",
      "Ridge Regression Average R² score: 0.4047\n"
     ]
    }
   ],
   "source": [
    "from sklearn.model_selection import cross_val_score\n",
    "model_lr = LinearRegression()\n",
    "model_ridge = Ridge(alpha=1.0)  \n",
    "\n",
    "scores_lr = cross_val_score(model_lr, x_train, y_train, cv=5, scoring='r2')\n",
    "scores_ridge = cross_val_score(model_ridge, x_train, y_train, cv=5, scoring='r2')\n",
    "\n",
    "mean_score_lr = scores_lr.mean()\n",
    "mean_score_ridge = scores_ridge.mean()\n",
    "\n",
    "# 打印结果\n",
    "print(f\"Linear Regression Average R² score: {mean_score_lr:.4f}\")\n",
    "print(f\"Ridge Regression Average R² score: {mean_score_ridge:.4f}\")\n"
   ]
  },
  {
   "cell_type": "markdown",
   "id": "ee392923",
   "metadata": {},
   "source": [
    "Your answer:\n",
    "\n",
    "~~~\n",
    "Linear Regression Average R² score: 0.4047\n",
    "Ridge Regression Average R² score: 0.4047\n",
    "The results obtained are reasonable, especially when conducting regression analysis with a single feature (Gr Liv Area). This indicates that for the current data and task, a simple linear regression model is sufficient, and introducing regularization does not provide an additional performance improvement.\n",
    "\n",
    "\n",
    "~~~\n",
    "\n",
    "\n",
    "* Using `knn.reg` fit KNN regression model.  Use cross validation to decide which K to use.\n",
    "\n",
    "Your code:"
   ]
  },
  {
   "cell_type": "code",
   "execution_count": 6,
   "id": "54c21c64",
   "metadata": {
    "Rmd_chunk_options": "echo=TRUE",
    "kernel": "Python3",
    "tags": [
     "report_cell"
    ]
   },
   "outputs": [
    {
     "name": "stdout",
     "output_type": "stream",
     "text": [
      "Optimal K value: 12\n",
      "Maximum Mean R² Score: 0.6575\n"
     ]
    }
   ],
   "source": [
    "from sklearn.neighbors import KNeighborsRegressor\n",
    "\n",
    "x_train_updated = ames_raw[['Gr Liv Area', 'Overall Qual', 'Year Built']] \n",
    "y_train = ames_raw['SalePrice']  # 目标变量\n",
    "\n",
    "k_values = range(1, 31)  \n",
    "mean_scores = []\n",
    "\n",
    "for k in k_values:\n",
    "    model_knn = KNeighborsRegressor(n_neighbors=k)\n",
    "    scores = cross_val_score(model_knn, x_train_updated, y_train, cv=5, scoring='r2')\n",
    "    mean_scores.append(scores.mean())\n",
    "optimal_k = k_values[mean_scores.index(max(mean_scores))]\n",
    "max_mean_score = max(mean_scores)\n",
    "\n",
    "print(f\"Optimal K value: {optimal_k}\")\n",
    "print(f\"Maximum Mean R² Score: {max_mean_score:.4f}\")"
   ]
  },
  {
   "cell_type": "markdown",
   "id": "e116dea8",
   "metadata": {},
   "source": [
    "Your answer:\n",
    "\n",
    "~~~\n",
    "Optimal K value is 12.\n",
    "\n",
    "\n",
    "~~~\n",
    "\n",
    "\n",
    "* Which model performs better on your training data?  Which model performs better in your future prediction?\n",
    "\n",
    "Your code:"
   ]
  },
  {
   "cell_type": "code",
   "execution_count": 7,
   "id": "1b41a25c",
   "metadata": {
    "Rmd_chunk_options": "echo=TRUE",
    "kernel": "Python3",
    "tags": [
     "report_cell"
    ]
   },
   "outputs": [
    {
     "name": "stdout",
     "output_type": "stream",
     "text": [
      "Training Data - Linear Regression R²: 0.7542\n",
      "Training Data - Ridge Regression R²: 0.7542\n",
      "Training Data - KNN Regression R² (K=12): 0.7269\n",
      "Future Data - Linear Regression R²: 0.7500\n",
      "Future Data - Ridge Regression R²: 0.7500\n",
      "Future Data - KNN Regression R² (K=12): 0.7217\n"
     ]
    }
   ],
   "source": [
    "x_test = ames_raw_2009[['Gr Liv Area', 'Overall Qual', 'Year Built']]\n",
    "y_test = ames_raw_2009['SalePrice']\n",
    "\n",
    "\n",
    "model_lr = LinearRegression()\n",
    "model_lr.fit(x_train_updated, y_train)\n",
    "\n",
    "\n",
    "model_ridge = Ridge(alpha=1.0)\n",
    "model_ridge.fit(x_train_updated, y_train)\n",
    "\n",
    "\n",
    "optimal_k = 12  \n",
    "model_knn = KNeighborsRegressor(n_neighbors=optimal_k)\n",
    "model_knn.fit(x_train_updated, y_train)\n",
    "\n",
    "r2_train_lr = model_lr.score(x_train_updated, y_train)\n",
    "r2_train_ridge = model_ridge.score(x_train_updated, y_train)\n",
    "r2_train_knn = model_knn.score(x_train_updated, y_train)\n",
    "\n",
    "\n",
    "r2_test_lr = model_lr.score(x_test, y_test)\n",
    "r2_test_ridge = model_ridge.score(x_test, y_test)\n",
    "r2_test_knn = model_knn.score(x_test, y_test)\n",
    "\n",
    "print(f\"Training Data - Linear Regression R²: {r2_train_lr:.4f}\")\n",
    "print(f\"Training Data - Ridge Regression R²: {r2_train_ridge:.4f}\")\n",
    "print(f\"Training Data - KNN Regression R² (K={optimal_k}): {r2_train_knn:.4f}\")\n",
    "print(f\"Future Data - Linear Regression R²: {r2_test_lr:.4f}\")\n",
    "print(f\"Future Data - Ridge Regression R²: {r2_test_ridge:.4f}\")\n",
    "print(f\"Future Data - KNN Regression R² (K={optimal_k}): {r2_test_knn:.4f}\")"
   ]
  },
  {
   "cell_type": "markdown",
   "id": "adf13891",
   "metadata": {},
   "source": [
    "Your answer:\n",
    "\n",
    "~~~\n",
    "On the future data, the R² scores for both the linear regression and ridge regression models remain the same at 0.7500, which is very close to their performance on the training data. This indicates that these two models have good generalization ability, capable of maintaining stable predictive performance on unseen data. The KNN regression model (K=12) has an R² score of 0.7217 on the future data, which is slightly lower compared to the results on the training data, but it still demonstrates relatively stable generalization ability.\n",
    "\n",
    "\n",
    "\n",
    "\n",
    "\n",
    "~~~"
   ]
  },
  {
   "cell_type": "markdown",
   "id": "75b49db5",
   "metadata": {},
   "source": [
    "## Problem Set"
   ]
  },
  {
   "cell_type": "markdown",
   "id": "3e1e310f",
   "metadata": {},
   "source": [
    "### Bootstrap\n",
    "\n",
    "We will now investigate numerically the probability that a bootstrap sample of size n = 100 contains the jth observation. Here j = 4. We first create an array store with values that will subsequently\n",
    "be overwritten using the function np.empty(). We then repeatedly create bootstrap samples, and each time we record whether or not the fifth observation is contained in the bootstrap\n",
    "sample.\n",
    "\n",
    "We will investigate numerically the probability that a bootstrap sample of size n = 100 contains the jth observation. Here j = 4. We repeatedly create bootstrap samples, and each time\n",
    "we record whether or not the fourth observation is contained in the bootstrap sample.\n",
    "\n",
    "Here is the code to get you going"
   ]
  },
  {
   "cell_type": "code",
   "execution_count": 8,
   "id": "275e75fd",
   "metadata": {
    "Rmd_chunk_options": "echo =TRUE,eval=FALSE",
    "kernel": "Python3",
    "tags": [
     "report_cell"
    ]
   },
   "outputs": [
    {
     "data": {
      "text/plain": [
       "0.6362"
      ]
     },
     "execution_count": 8,
     "metadata": {},
     "output_type": "execute_result"
    }
   ],
   "source": [
    "rng = np.random.default_rng (10)\n",
    "store = np.empty (10000)\n",
    "for i in range (10000):\n",
    "    store[i] = np.sum(rng.choice(100, 100, replace=True) == 4) > 0\n",
    "\n",
    "\n",
    "np.mean(store)"
   ]
  },
  {
   "cell_type": "markdown",
   "id": "aa96d784",
   "metadata": {},
   "source": [
    "Comment on the results obtained.\n",
    "\n",
    "The code essentially estimates the probability that observation 4 will appear in a bootstrap sample of size 100 by repeatedly simulating the process and calculating the proportion of times it occurs.\n",
    "\n",
    "Your code:"
   ]
  },
  {
   "cell_type": "markdown",
   "id": "ce1a4875",
   "metadata": {},
   "source": [
    "Your answer:\n",
    "\n",
    "~~~\n",
    "Please write your answer in full sentences.\n",
    "\n",
    "\n",
    "~~~"
   ]
  },
  {
   "cell_type": "markdown",
   "id": "ca9da176",
   "metadata": {},
   "source": [
    "### CV\n",
    "\n",
    "We will now perform cross-validation on a simulated data set.\n",
    "(a) Generate a simulated data set as follows:"
   ]
  },
  {
   "cell_type": "code",
   "execution_count": 9,
   "id": "269de067",
   "metadata": {
    "Rmd_chunk_options": "eval=FALSE, echo =TRUE",
    "kernel": "Python3",
    "tags": [
     "report_cell"
    ]
   },
   "outputs": [],
   "source": [
    "rng = np.random.default_rng(1)\n",
    "x = rng.normal(size=100)\n",
    "y = x - 2 * x**2 + rng.normal(size=100)"
   ]
  },
  {
   "cell_type": "markdown",
   "id": "a7051ad7",
   "metadata": {},
   "source": [
    "In this data set, what is n and what is p? Write out the model\n",
    "used to generate the data in equation form.\n",
    "\n",
    "'n' = 100 (number of observations)\n",
    "'p' = 1 (number of predictor variables)\n",
    "The model equation is: y = x - 2x^2 + ε\n",
    "\n",
    "Your code:"
   ]
  },
  {
   "cell_type": "code",
   "execution_count": 10,
   "id": "7e1e71c6",
   "metadata": {
    "Rmd_chunk_options": "echo=TRUE",
    "kernel": "Python3",
    "tags": [
     "report_cell"
    ]
   },
   "outputs": [],
   "source": [
    "#\n",
    "#"
   ]
  },
  {
   "cell_type": "markdown",
   "id": "48cab751",
   "metadata": {},
   "source": [
    "Your answer:\n",
    "\n",
    "~~~\n",
    "Please write your answer in full sentences.\n",
    "\n",
    "\n",
    "~~~\n",
    "\n",
    "\n",
    "(b) Create a scatterplot of X against Y . Comment on what you find.\n",
    "\n",
    "\n",
    "Your code:"
   ]
  },
  {
   "cell_type": "code",
   "execution_count": 11,
   "id": "3f195ab3",
   "metadata": {
    "Rmd_chunk_options": "echo=TRUE",
    "kernel": "Python3",
    "tags": [
     "report_cell"
    ]
   },
   "outputs": [
    {
     "data": {
      "image/png": "[encoded data removed]",
      "text/plain": [
       "<Figure size 576x432 with 1 Axes>"
      ]
     },
     "metadata": {
      "needs_background": "light"
     },
     "output_type": "display_data"
    }
   ],
   "source": [
    "import matplotlib.pyplot as plt\n",
    "\n",
    "\n",
    "# Create a scatterplot\n",
    "plt.figure(figsize=(8, 6))\n",
    "plt.scatter(x, y, alpha=0.5, color='blue')\n",
    "plt.title('Scatterplot of X against Y')\n",
    "plt.xlabel('X')\n",
    "plt.ylabel('Y')\n",
    "plt.grid(True)\n",
    "plt.show()"
   ]
  },
  {
   "cell_type": "markdown",
   "id": "ef692fff",
   "metadata": {},
   "source": [
    "Your answer:\n",
    "\n",
    "~~~\n",
    "It suggests that the relationship between x and y is nonlinear and quadratic.\n",
    "\n",
    "\n",
    "~~~\n",
    "\n",
    "(c) Set a random seed, and then compute the LOOCV errors that result from fitting the following four models using least squares:\n",
    "\n",
    "i.   $Y = \\beta_0 + \\beta_1X + \\epsilon$\n",
    "ii.  $Y = \\beta_0 + \\beta_1X + \\beta_2X^2 + \\epsilon$\n",
    "iii. $Y = \\beta_0 + \\beta_1X + \\beta_2X^2 + \\beta_3X^3 + \\epsilon$\n",
    "iv.  $Y = \\beta_0 + \\beta_1X + \\beta_2X^2 + \\beta_3X^3 + \\beta_4X^4 + \\epsilon$.\n",
    "\n",
    "Note you may find it helpful to use the `data.frame()` function\n",
    "to create a single data set containing both $X$ and $Y$ .\n",
    "\n",
    "\n",
    "Your code:"
   ]
  },
  {
   "cell_type": "code",
   "execution_count": 12,
   "id": "45208594",
   "metadata": {
    "Rmd_chunk_options": "echo=TRUE",
    "kernel": "Python3",
    "tags": [
     "report_cell"
    ]
   },
   "outputs": [
    {
     "name": "stdout",
     "output_type": "stream",
     "text": [
      "Model Degree 1: LOOCV Error = 9.3653\n",
      "Model Degree 2: LOOCV Error = 0.9707\n",
      "Model Degree 3: LOOCV Error = 0.9936\n",
      "Model Degree 4: LOOCV Error = 0.9968\n"
     ]
    }
   ],
   "source": [
    "import numpy as np\n",
    "from sklearn.linear_model import LinearRegression\n",
    "# from sklearn.metrics import mean_squared_error\n",
    "\n",
    "X = np.random.normal(size=100)  # Assuming you want to use the same X as before\n",
    "Y = X - 2 * X**2 + np.random.normal(size=100)\n",
    "\n",
    "data = np.column_stack((X, Y))\n",
    "\n",
    "poly_degrees = [1, 2, 3, 4]\n",
    "\n",
    "loocv_errors = []\n",
    "\n",
    "for degree in poly_degrees:\n",
    "    errors = []  # Store errors for this model degree\n",
    "    \n",
    "    for i in range(len(X)):\n",
    "        X_train = np.delete(X, i)\n",
    "        Y_train = np.delete(Y, i)\n",
    "        X_val = X[i]\n",
    "        Y_val = Y[i]\n",
    "        \n",
    "        poly_features = np.column_stack([X_train**d for d in range(1, degree + 1)])\n",
    "        model = LinearRegression().fit(poly_features, Y_train)\n",
    "        \n",
    "        X_val_poly = np.array([X_val**d for d in range(1, degree + 1)]).reshape(1, -1)\n",
    "        Y_pred = model.predict(X_val_poly)\n",
    "        \n",
    "        error = (Y_val - Y_pred)**2\n",
    "        errors.append(error)\n",
    "    \n",
    "    loocv_error = np.mean(errors)\n",
    "    loocv_errors.append(loocv_error)\n",
    "\n",
    "for degree, error in zip(poly_degrees, loocv_errors):\n",
    "    print(f'Model Degree {degree}: LOOCV Error = {error:.4f}')\n"
   ]
  },
  {
   "cell_type": "markdown",
   "id": "26dae8c9",
   "metadata": {},
   "source": [
    "Your answer:\n",
    "\n",
    "~~~\n",
    "Please write your answer in full sentences.\n",
    "\n",
    "\n",
    "~~~\n",
    "\n",
    "\n",
    "(d) Repeat (c) using another random seed, and report your results.\n",
    "Are your results the same as what you got in (c)? Why?\n",
    "\n",
    "Your code:"
   ]
  },
  {
   "cell_type": "code",
   "execution_count": 13,
   "id": "4fcf9ba9",
   "metadata": {
    "Rmd_chunk_options": "echo=TRUE",
    "kernel": "Python3",
    "tags": [
     "report_cell"
    ]
   },
   "outputs": [
    {
     "name": "stdout",
     "output_type": "stream",
     "text": [
      "Model Degree 1: LOOCV Error = 5.7728\n",
      "Model Degree 2: LOOCV Error = 1.1564\n",
      "Model Degree 3: LOOCV Error = 1.1904\n",
      "Model Degree 4: LOOCV Error = 1.1866\n"
     ]
    }
   ],
   "source": [
    "import numpy as np\n",
    "from sklearn.linear_model import LinearRegression\n",
    "\n",
    "np.random.seed(100)\n",
    "\n",
    "# from sklearn.metrics import mean_squared_error\n",
    "\n",
    "X = np.random.normal(size=100)  # Assuming you want to use the same X as before\n",
    "Y = X - 2 * X**2 + np.random.normal(size=100)\n",
    "\n",
    "data = np.column_stack((X, Y))\n",
    "\n",
    "poly_degrees = [1, 2, 3, 4]\n",
    "\n",
    "loocv_errors = []\n",
    "\n",
    "for degree in poly_degrees:\n",
    "    errors = []  # Store errors for this model degree\n",
    "    \n",
    "    for i in range(len(X)):\n",
    "        X_train = np.delete(X, i)\n",
    "        Y_train = np.delete(Y, i)\n",
    "        X_val = X[i]\n",
    "        Y_val = Y[i]\n",
    "        \n",
    "        poly_features = np.column_stack([X_train**d for d in range(1, degree + 1)])\n",
    "        model = LinearRegression().fit(poly_features, Y_train)\n",
    "        \n",
    "        X_val_poly = np.array([X_val**d for d in range(1, degree + 1)]).reshape(1, -1)\n",
    "        Y_pred = model.predict(X_val_poly)\n",
    "        \n",
    "        error = (Y_val - Y_pred)**2\n",
    "        errors.append(error)\n",
    "    \n",
    "    loocv_error = np.mean(errors)\n",
    "    loocv_errors.append(loocv_error)\n",
    "\n",
    "for degree, error in zip(poly_degrees, loocv_errors):\n",
    "    print(f'Model Degree {degree}: LOOCV Error = {error:.4f}')\n"
   ]
  },
  {
   "cell_type": "markdown",
   "id": "1b1c1120",
   "metadata": {},
   "source": [
    "Your answer:\n",
    "\n",
    "~~~\n",
    "The result perform differently. The reason is that we divide different training set and test set, and since we only have 1 test set, the variability of the test set is supposed to be very high.\n",
    "\n",
    "\n",
    "~~~\n",
    "\n",
    "(e) Which of the models in (c) had the smallest LOOCV error? Is this what you expected? Explain your answer.\n",
    "\n",
    "Your code:"
   ]
  },
  {
   "cell_type": "markdown",
   "id": "26ea7d2f",
   "metadata": {},
   "source": [
    "Your answer:\n",
    "\n",
    "~~~\n",
    "The quadratic models in in had the smallest LOOCV error among these four models. It meets my expectation since the actual X and Y have a quadratic relationship.\n",
    "\n",
    "\n",
    "~~~"
   ]
  },
  {
   "cell_type": "markdown",
   "id": "02963416",
   "metadata": {},
   "source": [
    "### Default 1\n",
    "\n",
    "In Chapter 4, we used logistic regression to predict the probability of default using income and balance on the `Default` data set. We will now estimate the test error of this logistic regression model using the validation set approach. Do not forget to set a random seed before beginning your analysis.\n",
    "\n",
    "(a) Fit a logistic regression model that uses income and balance to predict default.\n",
    "\n",
    "Your code:"
   ]
  },
  {
   "cell_type": "code",
   "execution_count": 14,
   "id": "75995a81",
   "metadata": {
    "Rmd_chunk_options": "echo=TRUE",
    "kernel": "Python3",
    "tags": [
     "report_cell"
    ]
   },
   "outputs": [
    {
     "name": "stdout",
     "output_type": "stream",
     "text": [
      "Accuracy on Validation Set: 0.9695\n",
      "Confusion Matrix:\n",
      "[[1921   10]\n",
      " [  51   18]]\n"
     ]
    }
   ],
   "source": [
    "from ISLP import load_data\n",
    "from sklearn.model_selection import train_test_split\n",
    "from sklearn.linear_model import LogisticRegression\n",
    "from sklearn.metrics import accuracy_score, confusion_matrix\n",
    "\n",
    "np.random.seed(1)\n",
    "default = load_data(\"Default\")\n",
    "default['default'] = default['default'].map({'Yes': 1, 'No': 0})\n",
    "X = default[['income', 'balance']]\n",
    "y = default['default']\n",
    "X_train, X_val, y_train, y_val = train_test_split(X, y, test_size=0.2, random_state=42)\n",
    "\n",
    "model = LogisticRegression()\n",
    "model.fit(X_train, y_train)\n",
    "\n",
    "y_pred = model.predict(X_val)\n",
    "\n",
    "accuracy = accuracy_score(y_val, y_pred)\n",
    "print(f'Accuracy on Validation Set: {accuracy:.4f}')\n",
    "\n",
    "confusion = confusion_matrix(y_val, y_pred)\n",
    "print('Confusion Matrix:')\n",
    "print(confusion)"
   ]
  },
  {
   "cell_type": "markdown",
   "id": "4cf78636",
   "metadata": {},
   "source": [
    "Your answer:\n",
    "\n",
    "~~~\n",
    "Please write your answer in full sentences.\n",
    "\n",
    "\n",
    "~~~\n",
    "\n",
    "\n",
    "(b) Using the validation set approach, estimate the test error of this model. In order to do this, you must perform the following steps:\n",
    "\n",
    "i. Split the sample set into a training set and a validation set.\n",
    "\n",
    "Your code:"
   ]
  },
  {
   "cell_type": "code",
   "execution_count": 15,
   "id": "3b5e79ce",
   "metadata": {
    "Rmd_chunk_options": "echo=TRUE",
    "kernel": "Python3",
    "tags": [
     "report_cell"
    ]
   },
   "outputs": [],
   "source": [
    "# Split the dataset into a training set and a validation set (80% train, 20% validation)\n",
    "X_train, X_val, y_train, y_val = train_test_split(X, y, test_size=0.2, random_state=42)"
   ]
  },
  {
   "cell_type": "markdown",
   "id": "1c1d6cd6",
   "metadata": {},
   "source": [
    "Your answer:\n",
    "\n",
    "~~~\n",
    "Please write your answer in full sentences.\n",
    "\n",
    "\n",
    "~~~\n",
    "\n",
    "ii. Fit a multiple logistic regression model using only the training observations.\n",
    "\n",
    "Your code:"
   ]
  },
  {
   "cell_type": "code",
   "execution_count": 16,
   "id": "4933acb7",
   "metadata": {
    "Rmd_chunk_options": "echo=TRUE",
    "kernel": "Python3",
    "tags": [
     "report_cell"
    ]
   },
   "outputs": [
    {
     "data": {
      "text/html": [
       "<style>#sk-container-id-1 {\n",
       "  /* Definition of color scheme common for light and dark mode */\n",
       "  --sklearn-color-text: black;\n",
       "  --sklearn-color-line: gray;\n",
       "  /* Definition of color scheme for unfitted estimators */\n",
       "  --sklearn-color-unfitted-level-0: #fff5e6;\n",
       "  --sklearn-color-unfitted-level-1: #f6e4d2;\n",
       "  --sklearn-color-unfitted-level-2: #ffe0b3;\n",
       "  --sklearn-color-unfitted-level-3: chocolate;\n",
       "  /* Definition of color scheme for fitted estimators */\n",
       "  --sklearn-color-fitted-level-0: #f0f8ff;\n",
       "  --sklearn-color-fitted-level-1: #d4ebff;\n",
       "  --sklearn-color-fitted-level-2: #b3dbfd;\n",
       "  --sklearn-color-fitted-level-3: cornflowerblue;\n",
       "\n",
       "  /* Specific color for light theme */\n",
       "  --sklearn-color-text-on-default-background: var(--sg-text-color, var(--theme-code-foreground, var(--jp-content-font-color1, black)));\n",
       "  --sklearn-color-background: var(--sg-background-color, var(--theme-background, var(--jp-layout-color0, white)));\n",
       "  --sklearn-color-border-box: var(--sg-text-color, var(--theme-code-foreground, var(--jp-content-font-color1, black)));\n",
       "  --sklearn-color-icon: #696969;\n",
       "\n",
       "  @media (prefers-color-scheme: dark) {\n",
       "    /* Redefinition of color scheme for dark theme */\n",
       "    --sklearn-color-text-on-default-background: var(--sg-text-color, var(--theme-code-foreground, var(--jp-content-font-color1, white)));\n",
       "    --sklearn-color-background: var(--sg-background-color, var(--theme-background, var(--jp-layout-color0, #111)));\n",
       "    --sklearn-color-border-box: var(--sg-text-color, var(--theme-code-foreground, var(--jp-content-font-color1, white)));\n",
       "    --sklearn-color-icon: #878787;\n",
       "  }\n",
       "}\n",
       "\n",
       "#sk-container-id-1 {\n",
       "  color: var(--sklearn-color-text);\n",
       "}\n",
       "\n",
       "#sk-container-id-1 pre {\n",
       "  padding: 0;\n",
       "}\n",
       "\n",
       "#sk-container-id-1 input.sk-hidden--visually {\n",
       "  border: 0;\n",
       "  clip: rect(1px 1px 1px 1px);\n",
       "  clip: rect(1px, 1px, 1px, 1px);\n",
       "  height: 1px;\n",
       "  margin: -1px;\n",
       "  overflow: hidden;\n",
       "  padding: 0;\n",
       "  position: absolute;\n",
       "  width: 1px;\n",
       "}\n",
       "\n",
       "#sk-container-id-1 div.sk-dashed-wrapped {\n",
       "  border: 1px dashed var(--sklearn-color-line);\n",
       "  margin: 0 0.4em 0.5em 0.4em;\n",
       "  box-sizing: border-box;\n",
       "  padding-bottom: 0.4em;\n",
       "  background-color: var(--sklearn-color-background);\n",
       "}\n",
       "\n",
       "#sk-container-id-1 div.sk-container {\n",
       "  /* jupyter's `normalize.less` sets `[hidden] { display: none; }`\n",
       "     but bootstrap.min.css set `[hidden] { display: none !important; }`\n",
       "     so we also need the `!important` here to be able to override the\n",
       "     default hidden behavior on the sphinx rendered scikit-learn.org.\n",
       "     See: https://github.com/scikit-learn/scikit-learn/issues/21755 */\n",
       "  display: inline-block !important;\n",
       "  position: relative;\n",
       "}\n",
       "\n",
       "#sk-container-id-1 div.sk-text-repr-fallback {\n",
       "  display: none;\n",
       "}\n",
       "\n",
       "div.sk-parallel-item,\n",
       "div.sk-serial,\n",
       "div.sk-item {\n",
       "  /* draw centered vertical line to link estimators */\n",
       "  background-image: linear-gradient(var(--sklearn-color-text-on-default-background), var(--sklearn-color-text-on-default-background));\n",
       "  background-size: 2px 100%;\n",
       "  background-repeat: no-repeat;\n",
       "  background-position: center center;\n",
       "}\n",
       "\n",
       "/* Parallel-specific style estimator block */\n",
       "\n",
       "#sk-container-id-1 div.sk-parallel-item::after {\n",
       "  content: \"\";\n",
       "  width: 100%;\n",
       "  border-bottom: 2px solid var(--sklearn-color-text-on-default-background);\n",
       "  flex-grow: 1;\n",
       "}\n",
       "\n",
       "#sk-container-id-1 div.sk-parallel {\n",
       "  display: flex;\n",
       "  align-items: stretch;\n",
       "  justify-content: center;\n",
       "  background-color: var(--sklearn-color-background);\n",
       "  position: relative;\n",
       "}\n",
       "\n",
       "#sk-container-id-1 div.sk-parallel-item {\n",
       "  display: flex;\n",
       "  flex-direction: column;\n",
       "}\n",
       "\n",
       "#sk-container-id-1 div.sk-parallel-item:first-child::after {\n",
       "  align-self: flex-end;\n",
       "  width: 50%;\n",
       "}\n",
       "\n",
       "#sk-container-id-1 div.sk-parallel-item:last-child::after {\n",
       "  align-self: flex-start;\n",
       "  width: 50%;\n",
       "}\n",
       "\n",
       "#sk-container-id-1 div.sk-parallel-item:only-child::after {\n",
       "  width: 0;\n",
       "}\n",
       "\n",
       "/* Serial-specific style estimator block */\n",
       "\n",
       "#sk-container-id-1 div.sk-serial {\n",
       "  display: flex;\n",
       "  flex-direction: column;\n",
       "  align-items: center;\n",
       "  background-color: var(--sklearn-color-background);\n",
       "  padding-right: 1em;\n",
       "  padding-left: 1em;\n",
       "}\n",
       "\n",
       "\n",
       "/* Toggleable style: style used for estimator/Pipeline/ColumnTransformer box that is\n",
       "clickable and can be expanded/collapsed.\n",
       "- Pipeline and ColumnTransformer use this feature and define the default style\n",
       "- Estimators will overwrite some part of the style using the `sk-estimator` class\n",
       "*/\n",
       "\n",
       "/* Pipeline and ColumnTransformer style (default) */\n",
       "\n",
       "#sk-container-id-1 div.sk-toggleable {\n",
       "  /* Default theme specific background. It is overwritten whether we have a\n",
       "  specific estimator or a Pipeline/ColumnTransformer */\n",
       "  background-color: var(--sklearn-color-background);\n",
       "}\n",
       "\n",
       "/* Toggleable label */\n",
       "#sk-container-id-1 label.sk-toggleable__label {\n",
       "  cursor: pointer;\n",
       "  display: block;\n",
       "  width: 100%;\n",
       "  margin-bottom: 0;\n",
       "  padding: 0.5em;\n",
       "  box-sizing: border-box;\n",
       "  text-align: center;\n",
       "}\n",
       "\n",
       "#sk-container-id-1 label.sk-toggleable__label-arrow:before {\n",
       "  /* Arrow on the left of the label */\n",
       "  content: \"▸\";\n",
       "  float: left;\n",
       "  margin-right: 0.25em;\n",
       "  color: var(--sklearn-color-icon);\n",
       "}\n",
       "\n",
       "#sk-container-id-1 label.sk-toggleable__label-arrow:hover:before {\n",
       "  color: var(--sklearn-color-text);\n",
       "}\n",
       "\n",
       "/* Toggleable content - dropdown */\n",
       "\n",
       "#sk-container-id-1 div.sk-toggleable__content {\n",
       "  max-height: 0;\n",
       "  max-width: 0;\n",
       "  overflow: hidden;\n",
       "  text-align: left;\n",
       "  /* unfitted */\n",
       "  background-color: var(--sklearn-color-unfitted-level-0);\n",
       "}\n",
       "\n",
       "#sk-container-id-1 div.sk-toggleable__content.fitted {\n",
       "  /* fitted */\n",
       "  background-color: var(--sklearn-color-fitted-level-0);\n",
       "}\n",
       "\n",
       "#sk-container-id-1 div.sk-toggleable__content pre {\n",
       "  margin: 0.2em;\n",
       "  border-radius: 0.25em;\n",
       "  color: var(--sklearn-color-text);\n",
       "  /* unfitted */\n",
       "  background-color: var(--sklearn-color-unfitted-level-0);\n",
       "}\n",
       "\n",
       "#sk-container-id-1 div.sk-toggleable__content.fitted pre {\n",
       "  /* unfitted */\n",
       "  background-color: var(--sklearn-color-fitted-level-0);\n",
       "}\n",
       "\n",
       "#sk-container-id-1 input.sk-toggleable__control:checked~div.sk-toggleable__content {\n",
       "  /* Expand drop-down */\n",
       "  max-height: 200px;\n",
       "  max-width: 100%;\n",
       "  overflow: auto;\n",
       "}\n",
       "\n",
       "#sk-container-id-1 input.sk-toggleable__control:checked~label.sk-toggleable__label-arrow:before {\n",
       "  content: \"▾\";\n",
       "}\n",
       "\n",
       "/* Pipeline/ColumnTransformer-specific style */\n",
       "\n",
       "#sk-container-id-1 div.sk-label input.sk-toggleable__control:checked~label.sk-toggleable__label {\n",
       "  color: var(--sklearn-color-text);\n",
       "  background-color: var(--sklearn-color-unfitted-level-2);\n",
       "}\n",
       "\n",
       "#sk-container-id-1 div.sk-label.fitted input.sk-toggleable__control:checked~label.sk-toggleable__label {\n",
       "  background-color: var(--sklearn-color-fitted-level-2);\n",
       "}\n",
       "\n",
       "/* Estimator-specific style */\n",
       "\n",
       "/* Colorize estimator box */\n",
       "#sk-container-id-1 div.sk-estimator input.sk-toggleable__control:checked~label.sk-toggleable__label {\n",
       "  /* unfitted */\n",
       "  background-color: var(--sklearn-color-unfitted-level-2);\n",
       "}\n",
       "\n",
       "#sk-container-id-1 div.sk-estimator.fitted input.sk-toggleable__control:checked~label.sk-toggleable__label {\n",
       "  /* fitted */\n",
       "  background-color: var(--sklearn-color-fitted-level-2);\n",
       "}\n",
       "\n",
       "#sk-container-id-1 div.sk-label label.sk-toggleable__label,\n",
       "#sk-container-id-1 div.sk-label label {\n",
       "  /* The background is the default theme color */\n",
       "  color: var(--sklearn-color-text-on-default-background);\n",
       "}\n",
       "\n",
       "/* On hover, darken the color of the background */\n",
       "#sk-container-id-1 div.sk-label:hover label.sk-toggleable__label {\n",
       "  color: var(--sklearn-color-text);\n",
       "  background-color: var(--sklearn-color-unfitted-level-2);\n",
       "}\n",
       "\n",
       "/* Label box, darken color on hover, fitted */\n",
       "#sk-container-id-1 div.sk-label.fitted:hover label.sk-toggleable__label.fitted {\n",
       "  color: var(--sklearn-color-text);\n",
       "  background-color: var(--sklearn-color-fitted-level-2);\n",
       "}\n",
       "\n",
       "/* Estimator label */\n",
       "\n",
       "#sk-container-id-1 div.sk-label label {\n",
       "  font-family: monospace;\n",
       "  font-weight: bold;\n",
       "  display: inline-block;\n",
       "  line-height: 1.2em;\n",
       "}\n",
       "\n",
       "#sk-container-id-1 div.sk-label-container {\n",
       "  text-align: center;\n",
       "}\n",
       "\n",
       "/* Estimator-specific */\n",
       "#sk-container-id-1 div.sk-estimator {\n",
       "  font-family: monospace;\n",
       "  border: 1px dotted var(--sklearn-color-border-box);\n",
       "  border-radius: 0.25em;\n",
       "  box-sizing: border-box;\n",
       "  margin-bottom: 0.5em;\n",
       "  /* unfitted */\n",
       "  background-color: var(--sklearn-color-unfitted-level-0);\n",
       "}\n",
       "\n",
       "#sk-container-id-1 div.sk-estimator.fitted {\n",
       "  /* fitted */\n",
       "  background-color: var(--sklearn-color-fitted-level-0);\n",
       "}\n",
       "\n",
       "/* on hover */\n",
       "#sk-container-id-1 div.sk-estimator:hover {\n",
       "  /* unfitted */\n",
       "  background-color: var(--sklearn-color-unfitted-level-2);\n",
       "}\n",
       "\n",
       "#sk-container-id-1 div.sk-estimator.fitted:hover {\n",
       "  /* fitted */\n",
       "  background-color: var(--sklearn-color-fitted-level-2);\n",
       "}\n",
       "\n",
       "/* Specification for estimator info (e.g. \"i\" and \"?\") */\n",
       "\n",
       "/* Common style for \"i\" and \"?\" */\n",
       "\n",
       ".sk-estimator-doc-link,\n",
       "a:link.sk-estimator-doc-link,\n",
       "a:visited.sk-estimator-doc-link {\n",
       "  float: right;\n",
       "  font-size: smaller;\n",
       "  line-height: 1em;\n",
       "  font-family: monospace;\n",
       "  background-color: var(--sklearn-color-background);\n",
       "  border-radius: 1em;\n",
       "  height: 1em;\n",
       "  width: 1em;\n",
       "  text-decoration: none !important;\n",
       "  margin-left: 1ex;\n",
       "  /* unfitted */\n",
       "  border: var(--sklearn-color-unfitted-level-1) 1pt solid;\n",
       "  color: var(--sklearn-color-unfitted-level-1);\n",
       "}\n",
       "\n",
       ".sk-estimator-doc-link.fitted,\n",
       "a:link.sk-estimator-doc-link.fitted,\n",
       "a:visited.sk-estimator-doc-link.fitted {\n",
       "  /* fitted */\n",
       "  border: var(--sklearn-color-fitted-level-1) 1pt solid;\n",
       "  color: var(--sklearn-color-fitted-level-1);\n",
       "}\n",
       "\n",
       "/* On hover */\n",
       "div.sk-estimator:hover .sk-estimator-doc-link:hover,\n",
       ".sk-estimator-doc-link:hover,\n",
       "div.sk-label-container:hover .sk-estimator-doc-link:hover,\n",
       ".sk-estimator-doc-link:hover {\n",
       "  /* unfitted */\n",
       "  background-color: var(--sklearn-color-unfitted-level-3);\n",
       "  color: var(--sklearn-color-background);\n",
       "  text-decoration: none;\n",
       "}\n",
       "\n",
       "div.sk-estimator.fitted:hover .sk-estimator-doc-link.fitted:hover,\n",
       ".sk-estimator-doc-link.fitted:hover,\n",
       "div.sk-label-container:hover .sk-estimator-doc-link.fitted:hover,\n",
       ".sk-estimator-doc-link.fitted:hover {\n",
       "  /* fitted */\n",
       "  background-color: var(--sklearn-color-fitted-level-3);\n",
       "  color: var(--sklearn-color-background);\n",
       "  text-decoration: none;\n",
       "}\n",
       "\n",
       "/* Span, style for the box shown on hovering the info icon */\n",
       ".sk-estimator-doc-link span {\n",
       "  display: none;\n",
       "  z-index: 9999;\n",
       "  position: relative;\n",
       "  font-weight: normal;\n",
       "  right: .2ex;\n",
       "  padding: .5ex;\n",
       "  margin: .5ex;\n",
       "  width: min-content;\n",
       "  min-width: 20ex;\n",
       "  max-width: 50ex;\n",
       "  color: var(--sklearn-color-text);\n",
       "  box-shadow: 2pt 2pt 4pt #999;\n",
       "  /* unfitted */\n",
       "  background: var(--sklearn-color-unfitted-level-0);\n",
       "  border: .5pt solid var(--sklearn-color-unfitted-level-3);\n",
       "}\n",
       "\n",
       ".sk-estimator-doc-link.fitted span {\n",
       "  /* fitted */\n",
       "  background: var(--sklearn-color-fitted-level-0);\n",
       "  border: var(--sklearn-color-fitted-level-3);\n",
       "}\n",
       "\n",
       ".sk-estimator-doc-link:hover span {\n",
       "  display: block;\n",
       "}\n",
       "\n",
       "/* \"?\"-specific style due to the `<a>` HTML tag */\n",
       "\n",
       "#sk-container-id-1 a.estimator_doc_link {\n",
       "  float: right;\n",
       "  font-size: 1rem;\n",
       "  line-height: 1em;\n",
       "  font-family: monospace;\n",
       "  background-color: var(--sklearn-color-background);\n",
       "  border-radius: 1rem;\n",
       "  height: 1rem;\n",
       "  width: 1rem;\n",
       "  text-decoration: none;\n",
       "  /* unfitted */\n",
       "  color: var(--sklearn-color-unfitted-level-1);\n",
       "  border: var(--sklearn-color-unfitted-level-1) 1pt solid;\n",
       "}\n",
       "\n",
       "#sk-container-id-1 a.estimator_doc_link.fitted {\n",
       "  /* fitted */\n",
       "  border: var(--sklearn-color-fitted-level-1) 1pt solid;\n",
       "  color: var(--sklearn-color-fitted-level-1);\n",
       "}\n",
       "\n",
       "/* On hover */\n",
       "#sk-container-id-1 a.estimator_doc_link:hover {\n",
       "  /* unfitted */\n",
       "  background-color: var(--sklearn-color-unfitted-level-3);\n",
       "  color: var(--sklearn-color-background);\n",
       "  text-decoration: none;\n",
       "}\n",
       "\n",
       "#sk-container-id-1 a.estimator_doc_link.fitted:hover {\n",
       "  /* fitted */\n",
       "  background-color: var(--sklearn-color-fitted-level-3);\n",
       "}\n",
       "</style><div id=\"sk-container-id-1\" class=\"sk-top-container\"><div class=\"sk-text-repr-fallback\"><pre>LogisticRegression()</pre><b>In a Jupyter environment, please rerun this cell to show the HTML representation or trust the notebook. <br />On GitHub, the HTML representation is unable to render, please try loading this page with nbviewer.org.</b></div><div class=\"sk-container\" hidden><div class=\"sk-item\"><div class=\"sk-estimator fitted sk-toggleable\"><input class=\"sk-toggleable__control sk-hidden--visually\" id=\"sk-estimator-id-1\" type=\"checkbox\" checked><label for=\"sk-estimator-id-1\" class=\"sk-toggleable__label fitted sk-toggleable__label-arrow fitted\">&nbsp;&nbsp;LogisticRegression<a class=\"sk-estimator-doc-link fitted\" rel=\"noreferrer\" target=\"_blank\" href=\"https://scikit-learn.org/1.4/modules/generated/sklearn.linear_model.LogisticRegression.html\">?<span>Documentation for LogisticRegression</span></a><span class=\"sk-estimator-doc-link fitted\">i<span>Fitted</span></span></label><div class=\"sk-toggleable__content fitted\"><pre>LogisticRegression()</pre></div> </div></div></div></div>"
      ],
      "text/plain": [
       "LogisticRegression()"
      ]
     },
     "execution_count": 16,
     "metadata": {},
     "output_type": "execute_result"
    }
   ],
   "source": [
    "# Fit a multiple logistic regression model using the training observations\n",
    "model = LogisticRegression()\n",
    "model.fit(X_train, y_train)"
   ]
  },
  {
   "cell_type": "markdown",
   "id": "d0e17ef7",
   "metadata": {},
   "source": [
    "Your answer:\n",
    "\n",
    "~~~\n",
    "Please write your answer in full sentences.\n",
    "\n",
    "\n",
    "~~~\n",
    "\n",
    "\n",
    "iii. Obtain a prediction of default status for each individual in the validation set by computing the posterior probability of default for that individual, and classifying the individual to the default category if the posterior probability is greater than 0.5.\n",
    "\n",
    "\n",
    "Your code:"
   ]
  },
  {
   "cell_type": "code",
   "execution_count": 17,
   "id": "2337c08a",
   "metadata": {
    "Rmd_chunk_options": "echo=TRUE",
    "kernel": "Python3",
    "tags": [
     "report_cell"
    ]
   },
   "outputs": [],
   "source": [
    "posterior_probabilities = model.predict_proba(X_val)[:, 1]  # Probability of default (class 1)\n",
    "\n",
    "predicted_default = (posterior_probabilities > 0.5).astype(int)\n",
    "\n",
    "validation_set_with_predictions = X_val.copy()\n",
    "validation_set_with_predictions['predicted_default'] = predicted_default\n"
   ]
  },
  {
   "cell_type": "markdown",
   "id": "05db2665",
   "metadata": {},
   "source": [
    "Your answer:\n",
    "\n",
    "~~~\n",
    "Please write your answer in full sentences.\n",
    "\n",
    "\n",
    "~~~\n",
    "\n",
    "\n",
    "iv. Compute the validation set error, which is the fraction of the observations in the validation set that are misclassified.\n",
    "\n",
    "Your code:"
   ]
  },
  {
   "cell_type": "code",
   "execution_count": 18,
   "id": "1b9bbe22",
   "metadata": {
    "Rmd_chunk_options": "echo=TRUE",
    "kernel": "Python3",
    "tags": [
     "report_cell"
    ]
   },
   "outputs": [
    {
     "name": "stdout",
     "output_type": "stream",
     "text": [
      "Validation Set Error: 0.0305\n"
     ]
    }
   ],
   "source": [
    "validation_error = 1 - accuracy_score(y_val, predicted_default)\n",
    "\n",
    "print(f'Validation Set Error: {validation_error:.4f}')\n"
   ]
  },
  {
   "cell_type": "markdown",
   "id": "3ea2e7e5",
   "metadata": {},
   "source": [
    "Your answer:\n",
    "\n",
    "~~~\n",
    "The error of validation set is 0.0305.\n",
    "\n",
    "\n",
    "~~~\n",
    "\n",
    "\n",
    "(c) Repeat the process in (b) three times, using three different splits of the observations into a training set and a validation set. Comment on the results obtained.\n",
    "\n",
    "\n",
    "Your code:"
   ]
  },
  {
   "cell_type": "code",
   "execution_count": 19,
   "id": "021da8ff",
   "metadata": {
    "Rmd_chunk_options": "echo=TRUE",
    "kernel": "Python3",
    "tags": [
     "report_cell"
    ]
   },
   "outputs": [
    {
     "name": "stdout",
     "output_type": "stream",
     "text": [
      "Iteration 1: Validation Set Error = 0.0330\n",
      "Iteration 2: Validation Set Error = 0.0255\n",
      "Iteration 3: Validation Set Error = 0.0215\n"
     ]
    }
   ],
   "source": [
    "validation_errors = []\n",
    "num_iterations = 3\n",
    "\n",
    "for _ in range(num_iterations):\n",
    "    X_train, X_val, y_train, y_val = train_test_split(X, y, test_size=0.2, random_state=np.random.randint(1, 100))\n",
    "    \n",
    "    model = LogisticRegression()\n",
    "    model.fit(X_train, y_train)\n",
    "    \n",
    "    posterior_probabilities = model.predict_proba(X_val)[:, 1]\n",
    "    predicted_default = (posterior_probabilities > 0.5).astype(int)\n",
    "    \n",
    "    validation_error = 1 - accuracy_score(y_val, predicted_default)\n",
    "    validation_errors.append(validation_error)\n",
    "\n",
    "for i, error in enumerate(validation_errors, start=1):\n",
    "    print(f'Iteration {i}: Validation Set Error = {error:.4f}')\n"
   ]
  },
  {
   "cell_type": "markdown",
   "id": "c2108a59",
   "metadata": {},
   "source": [
    "Your answer:\n",
    "\n",
    "~~~\n",
    "These three errors are 0.0255, 0.0215, and 0.0260.\n",
    "\n",
    "\n",
    "~~~\n",
    "\n",
    "\n",
    "(d) Now consider a logistic regression model that predicts the probability of default using income, balance, and a dummy variable for student. Estimate the test error for this model using the validation set approach. Comment on whether or not including a dummy variable for student leads to a reduction in the test error rate.\n",
    "\n",
    "\n",
    "Your code:"
   ]
  },
  {
   "cell_type": "code",
   "execution_count": 20,
   "id": "0087016a",
   "metadata": {
    "Rmd_chunk_options": "echo=TRUE",
    "kernel": "Python3",
    "tags": [
     "report_cell"
    ]
   },
   "outputs": [
    {
     "name": "stdout",
     "output_type": "stream",
     "text": [
      "Iteration 1: Validation Set Error = 0.0270\n",
      "Iteration 2: Validation Set Error = 0.0230\n",
      "Iteration 3: Validation Set Error = 0.0265\n"
     ]
    }
   ],
   "source": [
    "data = load_data(\"Default\")\n",
    "\n",
    "data['default'] = data['default'].map({'Yes': 1, 'No': 0})\n",
    "\n",
    "data['student'] = data['student'].map({'Yes': 1, 'No': 0})\n",
    "\n",
    "# Extract the features (income, balance, and student) and the target variable (default)\n",
    "X = data[['income', 'balance', 'student']]\n",
    "y = data['default']\n",
    "\n",
    "# Initialize an array to store validation errors\n",
    "validation_errors = []\n",
    "\n",
    "# Number of times to repeat the process\n",
    "num_iterations = 3\n",
    "\n",
    "for _ in range(num_iterations):\n",
    "    # Split the dataset into a new training set and a validation set (80% train, 20% validation)\n",
    "    X_train, X_val, y_train, y_val = train_test_split(X, y, test_size=0.2, random_state=np.random.randint(1, 100))\n",
    "    \n",
    "    # Fit a logistic regression model using the training observations\n",
    "    model = LogisticRegression()\n",
    "    model.fit(X_train, y_train)\n",
    "    \n",
    "    # Obtain the posterior probabilities and classify based on a threshold of 0.5\n",
    "    posterior_probabilities = model.predict_proba(X_val)[:, 1]\n",
    "    predicted_default = (posterior_probabilities > 0.5).astype(int)\n",
    "    \n",
    "    # Calculate the validation set error\n",
    "    validation_error = 1 - accuracy_score(y_val, predicted_default)\n",
    "    validation_errors.append(validation_error)\n",
    "\n",
    "for i, error in enumerate(validation_errors, start=1):\n",
    "    print(f'Iteration {i}: Validation Set Error = {error:.4f}')"
   ]
  },
  {
   "cell_type": "markdown",
   "id": "f2fb222e",
   "metadata": {},
   "source": [
    "Your answer:\n",
    "\n",
    "~~~\n",
    "Including the dummy variable increases the test error rate.\n",
    "\n",
    "\n",
    "~~~"
   ]
  },
  {
   "cell_type": "markdown",
   "id": "5eb2e117",
   "metadata": {},
   "source": [
    "### Default 2\n",
    "\n",
    "We continue to consider the use of a logistic regression model to\n",
    "predict the probability of default using income and balance on the\n",
    "Default data set. In particular, we will now compute estimates for the\n",
    "standard errors of the income and balance logistic regression coefficients\n",
    "in two different ways: (1) using the bootstrap, and (2) using the\n",
    "standard formula for computing the standard errors in the sm.GLM()\n",
    "function. Do not forget to set a random seed before beginning your\n",
    "analysis.\n",
    "\n",
    "(a) Using the `summarize()` and `sm.GLM()` functions, determine the\n",
    "estimated standard errors for the coefficients associated with\n",
    "income and balance in a multiple logistic regression model that\n",
    "uses both predictors.\n",
    "Your code:"
   ]
  },
  {
   "cell_type": "code",
   "execution_count": 21,
   "id": "c9e48b55",
   "metadata": {
    "Rmd_chunk_options": "echo=TRUE",
    "kernel": "Python3",
    "tags": [
     "report_cell"
    ]
   },
   "outputs": [
    {
     "name": "stdout",
     "output_type": "stream",
     "text": [
      "                 Generalized Linear Model Regression Results                  \n",
      "==============================================================================\n",
      "Dep. Variable:                default   No. Observations:                10000\n",
      "Model:                            GLM   Df Residuals:                     9997\n",
      "Model Family:                Binomial   Df Model:                            2\n",
      "Link Function:                  Logit   Scale:                          1.0000\n",
      "Method:                          IRLS   Log-Likelihood:                -789.48\n",
      "Date:                Sat, 03 Feb 2024   Deviance:                       1579.0\n",
      "Time:                        22:27:58   Pearson chi2:                 6.95e+03\n",
      "No. Iterations:                     9   Pseudo R-squ. (CS):             0.1256\n",
      "Covariance Type:            nonrobust                                         \n",
      "==============================================================================\n",
      "                 coef    std err          z      P>|z|      [0.025      0.975]\n",
      "------------------------------------------------------------------------------\n",
      "const        -11.5405      0.435    -26.544      0.000     -12.393     -10.688\n",
      "income      2.081e-05   4.99e-06      4.174      0.000     1.1e-05    3.06e-05\n",
      "balance        0.0056      0.000     24.835      0.000       0.005       0.006\n",
      "==============================================================================\n",
      "\n",
      "Standard Errors of Coefficients:\n",
      "const      0.434772\n",
      "income     0.000005\n",
      "balance    0.000227\n",
      "dtype: float64\n"
     ]
    }
   ],
   "source": [
    "import pandas as pd\n",
    "import statsmodels.api as sm\n",
    "\n",
    "np.random.seed(42)\n",
    "\n",
    "data = load_data(\"Default\")\n",
    "\n",
    "data['default'] = data['default'].map({'Yes': 1, 'No': 0})\n",
    "\n",
    "# Extract the features (income and balance) and the target variable (default)\n",
    "X = data[['income', 'balance']]\n",
    "y = data['default']\n",
    "\n",
    "X = sm.add_constant(X)\n",
    "\n",
    "model = sm.GLM(y, X, family=sm.families.Binomial()).fit()\n",
    "\n",
    "summary = model.summary()\n",
    "\n",
    "standard_errors = model.bse\n",
    "\n",
    "print(summary)\n",
    "print(\"\\nStandard Errors of Coefficients:\")\n",
    "print(standard_errors)\n"
   ]
  },
  {
   "cell_type": "markdown",
   "id": "7dabf728",
   "metadata": {},
   "source": [
    "Your answer:\n",
    "\n",
    "~~~\n",
    "The standard errors of Coefficients are:\n",
    "const      0.434772\n",
    "income     0.000005\n",
    "balance    0.000227\n",
    "\n",
    "\n",
    "~~~\n",
    "\n",
    "\n",
    "(b) Write a function, `boot_fn()`, that takes as input the Default data\n",
    "set as well as an index of the observations, and that outputs\n",
    "the coefficient estimates for income and balance in the multiple\n",
    "logistic regression model.\n",
    "\n",
    "Your code:"
   ]
  },
  {
   "cell_type": "code",
   "execution_count": 22,
   "id": "150d3446",
   "metadata": {
    "Rmd_chunk_options": "echo=TRUE",
    "kernel": "Python3",
    "tags": [
     "report_cell"
    ]
   },
   "outputs": [
    {
     "name": "stdout",
     "output_type": "stream",
     "text": [
      "Coefficient Estimates for Income and Balance:\n",
      "income     0.000016\n",
      "balance    0.005984\n",
      "dtype: float64\n"
     ]
    }
   ],
   "source": [
    "def boot_fn(data, index):\n",
    "    # Sample the data using the provided index\n",
    "    sample_data = data.iloc[index]\n",
    "    \n",
    "    # Define predictors X and response y\n",
    "    X = sample_data[['income', 'balance']]\n",
    "    y = sample_data['default']\n",
    "    \n",
    "    # Add a constant to the predictor variables\n",
    "    X = sm.add_constant(X)\n",
    "    \n",
    "    # Fit a logistic regression model\n",
    "    model = sm.GLM(y, X, family=sm.families.Binomial()).fit()\n",
    "    \n",
    "    # Extract and return the coefficient estimates for 'income' and 'balance'\n",
    "    coefficient_estimates = model.params[['income', 'balance']]\n",
    "    \n",
    "    return coefficient_estimates\n",
    "\n",
    "# Assuming 'data' is your DataFrame and it's already defined\n",
    "n_samples = data.shape[0]  # Number of samples to draw, could be the size of your dataset\n",
    "\n",
    "# Generate a sample of indices with replacement\n",
    "index_sample = np.random.choice(data.index, size=n_samples, replace=True)\n",
    "\n",
    "# Now use this sample of indices to perform the bootstrap\n",
    "coefficients = boot_fn(data, index_sample)\n",
    "print(\"Coefficient Estimates for Income and Balance:\")\n",
    "print(coefficients)"
   ]
  },
  {
   "cell_type": "markdown",
   "id": "d2d9f690",
   "metadata": {},
   "source": [
    "Your answer:\n",
    "\n",
    "~~~\n",
    "Coefficient Estimates for Income and Balance:\n",
    "income     0.000025\n",
    "balance    0.005688\n",
    "\n",
    "\n",
    "~~~\n",
    "\n",
    "(c) Following the bootstrap example in the lab, use your `boot_fn()`\n",
    "function to estimate the standard errors of the logistic regression\n",
    "coefficients for income and balance.\n",
    "\n",
    "\n",
    "Your code:"
   ]
  },
  {
   "cell_type": "code",
   "execution_count": 23,
   "id": "771a1fca",
   "metadata": {
    "Rmd_chunk_options": "echo=TRUE",
    "kernel": "Python3",
    "tags": [
     "report_cell"
    ]
   },
   "outputs": [
    {
     "name": "stdout",
     "output_type": "stream",
     "text": [
      "Bootstrap Standard Errors for Logistic Regression Coefficients:\n",
      "{'income': 4.969948276506694e-06, 'balance': 0.000231995336019044}\n"
     ]
    }
   ],
   "source": [
    "def bootstrap_se(data, boot_fn, n_bootstrap=1000):\n",
    "    # Initialize arrays to store bootstrap estimates\n",
    "    boot_estimates_income = np.zeros(n_bootstrap)\n",
    "    boot_estimates_balance = np.zeros(n_bootstrap)\n",
    "    \n",
    "    for i in range(n_bootstrap):\n",
    "        # Generate random indices with replacement\n",
    "        indices = np.random.choice(data.index, size=len(data), replace=True)\n",
    "        # Estimate coefficients for this bootstrap sample\n",
    "        coeffs = boot_fn(data, indices)\n",
    "        boot_estimates_income[i] = coeffs['income']\n",
    "        boot_estimates_balance[i] = coeffs['balance']\n",
    "    \n",
    "    # Calculate standard errors\n",
    "    se_income = np.std(boot_estimates_income, ddof=1)\n",
    "    se_balance = np.std(boot_estimates_balance, ddof=1)\n",
    "    \n",
    "    return {'income': se_income, 'balance': se_balance}\n",
    "\n",
    "# Example usage:\n",
    "se_estimates = bootstrap_se(data, boot_fn, n_bootstrap=1000)\n",
    "print(\"Bootstrap Standard Errors for Logistic Regression Coefficients:\")\n",
    "print(se_estimates)"
   ]
  },
  {
   "cell_type": "markdown",
   "id": "8b9f2e13",
   "metadata": {},
   "source": [
    "Your answer:\n",
    "\n",
    "~~~\n",
    "The bootstrap standard errors of income is 0, and of balance is 0.00023.\n",
    "\n",
    "\n",
    "~~~\n",
    "\n",
    "\n",
    "(d) Comment on the estimated standard errors obtained using the `sm.GLM()` function and using the bootstrap.\n",
    "\n",
    "Your answer:\n",
    "\n",
    "~~~\n",
    "The estimated standard errors using the bootstrap is much lower than using sm.GLM().\n",
    "\n",
    "\n",
    "~~~"
   ]
  },
  {
   "cell_type": "markdown",
   "id": "d8e99194",
   "metadata": {},
   "source": [
    "### Boston housing data set\n",
    "\n",
    "We will now consider the Boston housing data set, from the ISLR library."
   ]
  },
  {
   "cell_type": "code",
   "execution_count": 24,
   "id": "3e0c713d",
   "metadata": {
    "kernel": "Python3",
    "tags": [
     "report_cell"
    ]
   },
   "outputs": [],
   "source": [
    "Boston = load_data(\"Boston\")"
   ]
  },
  {
   "cell_type": "markdown",
   "id": "3478a17a",
   "metadata": {},
   "source": [
    "(a) Based on this data set, provide an estimate for the population mean of medv. Call this estimate $\\hat{\\mu}$.\n",
    "\n",
    "Your code:"
   ]
  },
  {
   "cell_type": "code",
   "execution_count": 25,
   "id": "7ac30b1b",
   "metadata": {
    "Rmd_chunk_options": "echo=TRUE",
    "kernel": "Python3",
    "tags": [
     "report_cell"
    ]
   },
   "outputs": [
    {
     "name": "stdout",
     "output_type": "stream",
     "text": [
      "22.532806324110677\n"
     ]
    }
   ],
   "source": [
    "mu_hat = np.mean(Boston.medv)\n",
    "print(mu_hat)"
   ]
  },
  {
   "cell_type": "markdown",
   "id": "8c227ec3",
   "metadata": {},
   "source": [
    "Your answer:\n",
    "\n",
    "~~~\n",
    "Please write your answer in full sentences.\n",
    "\n",
    "\n",
    "~~~\n",
    "\n",
    "\n",
    "(b) Provide an estimate of the standard error of $\\hat{\\mu}$. Interpret this result.\n",
    "Hint: We can compute the standard error of the sample mean by dividing the sample standard deviation by the square root of the number of observations.\n",
    "\n",
    "Your code:"
   ]
  },
  {
   "cell_type": "code",
   "execution_count": 26,
   "id": "1caaf8fc",
   "metadata": {
    "Rmd_chunk_options": "echo=TRUE",
    "kernel": "Python3",
    "tags": [
     "report_cell"
    ]
   },
   "outputs": [
    {
     "name": "stdout",
     "output_type": "stream",
     "text": [
      "1.0017054240646586\n"
     ]
    }
   ],
   "source": [
    "sem = mu_hat / np.sqrt(len(Boston))\n",
    "print(sem)"
   ]
  },
  {
   "cell_type": "markdown",
   "id": "3446e733",
   "metadata": {},
   "source": [
    "Your answer:\n",
    "\n",
    "~~~\n",
    "Please write your answer in full sentences.\n",
    "\n",
    "\n",
    "~~~\n",
    "\n",
    "\n",
    "(c) Now estimate the standard error of $\\hat{\\mu}$ using the bootstrap. How does this compare to your answer from (b)?\n",
    "\n",
    "Your code:"
   ]
  },
  {
   "cell_type": "code",
   "execution_count": 27,
   "id": "0c0a9cbf",
   "metadata": {
    "Rmd_chunk_options": "echo=TRUE",
    "kernel": "Python3",
    "tags": [
     "report_cell"
    ]
   },
   "outputs": [
    {
     "name": "stdout",
     "output_type": "stream",
     "text": [
      "0.397510600758734\n"
     ]
    }
   ],
   "source": [
    "from sklearn.utils import resample\n",
    "import numpy as np\n",
    "\n",
    "n_bootstrap_samples = 1000\n",
    "\n",
    "bootstrap_means = np.array([np.mean(resample(Boston.medv)) for _ in range(n_bootstrap_samples)])\n",
    "\n",
    "bootstrap_sem = np.std(bootstrap_means, ddof=1)\n",
    "\n",
    "print(bootstrap_sem)\n"
   ]
  },
  {
   "cell_type": "markdown",
   "id": "4bf56fb8",
   "metadata": {},
   "source": [
    "Your answer:\n",
    "\n",
    "~~~\n",
    "Please write your answer in full sentences.\n",
    "\n",
    "\n",
    "~~~\n",
    "\n",
    "(d) Based on your bootstrap estimate from (c), provide a 95 % confidence\n",
    "interval for the mean of medv. Compare it to the results\n",
    "obtained by using `Boston['medv'].std()` and the two standard\n",
    "error rule (3.9).\n",
    "Hint: You can approximate a 95% confidence interval using the formula $[\\hat{\\mu} − 2SE(\\hat{\\mu}), \\hat{\\mu} + 2SE(\\hat{\\mu})]$.\n",
    "\n",
    "Your code:"
   ]
  },
  {
   "cell_type": "code",
   "execution_count": 28,
   "id": "59be24cc",
   "metadata": {
    "Rmd_chunk_options": "echo=TRUE",
    "kernel": "Python3",
    "tags": [
     "report_cell"
    ]
   },
   "outputs": [
    {
     "name": "stdout",
     "output_type": "stream",
     "text": [
      "Bootstrap 95% CI: [21.78040514 23.36320652]\n",
      "Parametric Bootstrap 95% CI using 2SE rule: [21.73129543743801, 23.334317210783343]\n",
      "Traditional 95% CI using 2SE rule: [21.715084029115605, 23.35052861910575]\n"
     ]
    }
   ],
   "source": [
    "bootstrap_means = np.array([np.mean(resample(Boston.medv)) for _ in range(n_bootstrap_samples)])\n",
    "\n",
    "bootstrap_sem = np.std(bootstrap_means, ddof=1)\n",
    "\n",
    "bootstrap_ci = np.percentile(bootstrap_means, [2.5, 97.5])\n",
    "\n",
    "parametric_bootstrap_ci = [mu_hat - 2*bootstrap_sem, mu_hat + 2*bootstrap_sem]\n",
    "\n",
    "std_medv = np.std(Boston.medv, ddof=1) # Sample standard deviation of medv\n",
    "n = len(Boston.medv)\n",
    "traditional_ci = [mu_hat - 2*(std_medv/np.sqrt(n)), mu_hat + 2*(std_medv/np.sqrt(n))]\n",
    "\n",
    "print(\"Bootstrap 95% CI:\", bootstrap_ci)\n",
    "print(\"Parametric Bootstrap 95% CI using 2SE rule:\", parametric_bootstrap_ci)\n",
    "print(\"Traditional 95% CI using 2SE rule:\", traditional_ci)"
   ]
  },
  {
   "cell_type": "markdown",
   "id": "d16a99c5",
   "metadata": {},
   "source": [
    "Your answer:\n",
    "\n",
    "~~~\n",
    "Bootstrap 95% CI: [21.78597332 23.34469862]\n",
    "Parametric Bootstrap 95% CI using 2SE rule: [21.73059144717307, 23.335021201048285]\n",
    "Traditional 95% CI using 2SE rule: [21.715084029115605, 23.35052861910575]\n",
    "\n",
    "\n",
    "~~~\n",
    "\n",
    "\n",
    "(e) Based on this data set, provide an estimate, $\\hat{\\mu}_{med}$, for the median value of medv in the population.\n",
    "\n",
    "Your code:"
   ]
  },
  {
   "cell_type": "code",
   "execution_count": 29,
   "id": "ce645b44",
   "metadata": {
    "Rmd_chunk_options": "echo=TRUE",
    "kernel": "Python3",
    "tags": [
     "report_cell"
    ]
   },
   "outputs": [
    {
     "name": "stdout",
     "output_type": "stream",
     "text": [
      "Estimate for the median value of medv in the population: 21.2\n"
     ]
    }
   ],
   "source": [
    "mu_pop_hat = np.median(Boston.medv)\n",
    "\n",
    "print(\"Estimate for the median value of medv in the population:\", mu_pop_hat)\n"
   ]
  },
  {
   "cell_type": "markdown",
   "id": "927aa002",
   "metadata": {},
   "source": [
    "Your answer:\n",
    "\n",
    "~~~\n",
    "Please write your answer in full sentences.\n",
    "\n",
    "\n",
    "~~~\n",
    "\n",
    "\n",
    "(f) We now would like to estimate the standard error of $\\hat{\\mu}_{med}$. Unfortunately, there is no simple formula for computing the standard error of the median. Instead, estimate the standard error of the median using the bootstrap. Comment on your findings.\n",
    "\n",
    "Your code:"
   ]
  },
  {
   "cell_type": "code",
   "execution_count": 30,
   "id": "0221e97a",
   "metadata": {
    "Rmd_chunk_options": "echo=TRUE",
    "kernel": "Python3",
    "tags": [
     "report_cell"
    ]
   },
   "outputs": [
    {
     "name": "stdout",
     "output_type": "stream",
     "text": [
      "Bootstrap estimate of the standard error of the median: 0.3835519138031486\n"
     ]
    }
   ],
   "source": [
    "medv = Boston.medv\n",
    "\n",
    "# Number of bootstrap samples\n",
    "n_bootstrap_samples = 10000\n",
    "\n",
    "# Generate bootstrap samples and calculate their medians\n",
    "bootstrap_medians = np.array([np.median(resample(medv)) for _ in range(n_bootstrap_samples)])\n",
    "\n",
    "# Calculate the standard deviation of the bootstrap medians\n",
    "bootstrap_sem_median = np.std(bootstrap_medians, ddof=1)\n",
    "\n",
    "print(\"Bootstrap estimate of the standard error of the median:\", bootstrap_sem_median)"
   ]
  },
  {
   "cell_type": "markdown",
   "id": "3f90e963",
   "metadata": {},
   "source": [
    "Your answer:\n",
    "\n",
    "~~~\n",
    "The bootstrap estimate of the standard error of the median (med) for the medv variable being approximately 0.385 indicates the extent of variability or precision in our median estimate due to sampling variability. \n",
    "\n",
    "\n",
    "~~~\n",
    "\n",
    "\n",
    "\n",
    "(g) Based on this data set, provide an estimate for the tenth percentile\n",
    "of medv in Boston census tracts. Call this quantity $\\hat{\\mu}_{0.1}$.\n",
    "(You can use the `np.percentile()` function.)\n",
    "\n",
    "Your code:"
   ]
  },
  {
   "cell_type": "code",
   "execution_count": 31,
   "id": "dca83bcb",
   "metadata": {
    "Rmd_chunk_options": "echo=TRUE",
    "kernel": "Python3",
    "tags": [
     "report_cell"
    ]
   },
   "outputs": [
    {
     "name": "stdout",
     "output_type": "stream",
     "text": [
      "The 10th percentile of medv in Boston census tracts: 12.75\n"
     ]
    }
   ],
   "source": [
    "# Calculate the 10th percentile of MEDV\n",
    "mu_0_1 = np.percentile(medv, 10)\n",
    "\n",
    "print(\"The 10th percentile of medv in Boston census tracts:\", mu_0_1)"
   ]
  },
  {
   "cell_type": "markdown",
   "id": "3a298b56",
   "metadata": {},
   "source": [
    "Your answer:\n",
    "\n",
    "~~~\n",
    "The 10th percentile is 12.75.\n",
    "\n",
    "\n",
    "~~~\n",
    "\n",
    "\n",
    "(h) Use the bootstrap to estimate the standard error of $\\hat{\\mu}_{0.1}$. Comment on your findings.\n",
    "\n",
    "Your code:"
   ]
  },
  {
   "cell_type": "code",
   "execution_count": 32,
   "id": "56248d00",
   "metadata": {
    "Rmd_chunk_options": "echo=TRUE",
    "kernel": "Python3",
    "tags": [
     "report_cell"
    ]
   },
   "outputs": [
    {
     "name": "stdout",
     "output_type": "stream",
     "text": [
      "Bootstrap estimate of the standard error of the 10th percentile: 0.5010307906559421\n"
     ]
    }
   ],
   "source": [
    "# Generate bootstrap samples and calculate their 10th percentiles\n",
    "bootstrap_tenth_percentiles = np.array([np.percentile(resample(medv), 10) for _ in range(n_bootstrap_samples)])\n",
    "\n",
    "# Calculate the standard deviation of the bootstrap 10th percentiles\n",
    "bootstrap_sem_0_1 = np.std(bootstrap_tenth_percentiles, ddof=1)\n",
    "\n",
    "print(\"Bootstrap estimate of the standard error of the 10th percentile:\", bootstrap_sem_0_1)"
   ]
  },
  {
   "cell_type": "markdown",
   "id": "1f070ead",
   "metadata": {},
   "source": [
    "Your answer:\n",
    "\n",
    "~~~\n",
    "Bootstrap estimate of the standard error of the 10th percentile: 0.49830375739950405. The standard error is much lower.\n",
    "\n",
    "\n",
    "~~~"
   ]
  },
  {
   "cell_type": "markdown",
   "id": "8f8173b4",
   "metadata": {},
   "source": [
    "## Additional Material"
   ]
  },
  {
   "cell_type": "markdown",
   "id": "8a6174ae",
   "metadata": {},
   "source": [
    "### Cross Validation for Predictive Modeling Platforms in Python"
   ]
  },
  {
   "cell_type": "markdown",
   "id": "fcfdcf96",
   "metadata": {},
   "source": [
    "#### scikit-learn\n",
    "\n",
    "Using platforms like scikit-learn is helpful for things such as cross validation.\n",
    "There are variants of CV implemented to be used off the shelf\n",
    "https://scikit-learn.org/stable/modules/cross_validation.html\n",
    "\n",
    "There are many metrics you can choose from\n",
    "https://scikit-learn.org/stable/modules/model_evaluation.html#scoring-parameter"
   ]
  },
  {
   "cell_type": "code",
   "execution_count": 33,
   "id": "753aa0f5",
   "metadata": {
    "Rmd_chunk_options": "echo=TRUE",
    "kernel": "Python3",
    "tags": [
     "report_cell"
    ]
   },
   "outputs": [],
   "source": [
    "ames_raw_comp=ames_raw.loc[:,[\"SalePrice\",\"Gr Liv Area\",\"Lot Area\",\"Total Bsmt SF\"]].dropna()\n",
    "X=ames_raw_comp.loc[:,[\"Gr Liv Area\",\"Lot Area\",\"Total Bsmt SF\"]]\n",
    "y=ames_raw_comp.loc[:,\"SalePrice\"]\n",
    "from sklearn.model_selection import cross_val_score, cross_validate\n",
    "from sklearn import svm\n",
    "from sklearn.linear_model import LinearRegression\n",
    "clf =  LinearRegression()\n",
    "## One metric\n",
    "scores = cross_val_score(clf, X, y, cv=5,scoring=\"r2\")\n",
    "## Multiple metrics\n",
    "scoring = ['r2', 'max_error']\n",
    "scores = cross_validate(clf, X, y, scoring=scoring)"
   ]
  },
  {
   "cell_type": "markdown",
   "id": "e01a97f2",
   "metadata": {},
   "source": [
    "#### PySpark\n",
    "\n",
    "[Apache Spark](https://spark.apache.org/docs/3.1.3/api/python/index.html) is a popular large data handling platform.  Over the years, they built Machine Learning capabilities in MLlib."
   ]
  },
  {
   "cell_type": "code",
   "execution_count": 36,
   "id": "ec5ea774",
   "metadata": {
    "Rmd_chunk_options": "eval=FALSE, echo=TRUE",
    "kernel": "Python3",
    "tags": [
     "report_cell"
    ]
   },
   "outputs": [
    {
     "name": "stdout",
     "output_type": "stream",
     "text": [
      "Collecting pyspark\n",
      "  Downloading pyspark-3.5.0.tar.gz (316.9 MB)\n",
      "\u001b[2K     \u001b[91m━━━━━━━━━━━━━━━━━━━━━━━━\u001b[0m\u001b[91m╸\u001b[0m\u001b[90m━━━━━━━━━━━━━\u001b[0m \u001b[32m208.5/316.9 MB\u001b[0m \u001b[31m19.1 MB/s\u001b[0m eta \u001b[36m0:00:06\u001b[0m^C\n",
      "\u001b[2K     \u001b[91m━━━━━━━━━━━━━━━━━━━━━━━━━\u001b[0m\u001b[90m╺\u001b[0m\u001b[90m━━━━━━━━━━━━\u001b[0m \u001b[32m209.7/316.9 MB\u001b[0m \u001b[31m16.5 MB/s\u001b[0m eta \u001b[36m0:00:07\u001b[0m\n",
      "\u001b[?25h\u001b[31mERROR: Operation cancelled by user\u001b[0m\u001b[31m\n",
      "\u001b[0m\n",
      "\u001b[1m[\u001b[0m\u001b[34;49mnotice\u001b[0m\u001b[1;39;49m]\u001b[0m\u001b[39;49m A new release of pip is available: \u001b[0m\u001b[31;49m23.0.1\u001b[0m\u001b[39;49m -> \u001b[0m\u001b[32;49m24.0\u001b[0m\n",
      "\u001b[1m[\u001b[0m\u001b[34;49mnotice\u001b[0m\u001b[1;39;49m]\u001b[0m\u001b[39;49m To update, run: \u001b[0m\u001b[32;49mpip install --upgrade pip\u001b[0m\n"
     ]
    },
    {
     "ename": "ModuleNotFoundError",
     "evalue": "No module named 'pyspark'",
     "output_type": "error",
     "traceback": [
      "\u001b[0;31m---------------------------------------------------------------------------\u001b[0m",
      "\u001b[0;31mModuleNotFoundError\u001b[0m                       Traceback (most recent call last)",
      "Input \u001b[0;32mIn [36]\u001b[0m, in \u001b[0;36m<cell line: 2>\u001b[0;34m()\u001b[0m\n\u001b[1;32m      1\u001b[0m get_ipython()\u001b[38;5;241m.\u001b[39msystem(\u001b[38;5;124m'\u001b[39m\u001b[38;5;124mpip install pyspark\u001b[39m\u001b[38;5;124m'\u001b[39m)\n\u001b[0;32m----> 2\u001b[0m \u001b[38;5;28;01mimport\u001b[39;00m \u001b[38;5;21;01mpyspark\u001b[39;00m\n\u001b[1;32m      3\u001b[0m \u001b[38;5;28;01mfrom\u001b[39;00m \u001b[38;5;21;01mpyspark\u001b[39;00m\u001b[38;5;21;01m.\u001b[39;00m\u001b[38;5;21;01msql\u001b[39;00m \u001b[38;5;28;01mimport\u001b[39;00m SparkSession\n\u001b[1;32m      4\u001b[0m \u001b[38;5;28;01mfrom\u001b[39;00m \u001b[38;5;21;01mpyspark\u001b[39;00m\u001b[38;5;21;01m.\u001b[39;00m\u001b[38;5;21;01mml\u001b[39;00m\u001b[38;5;21;01m.\u001b[39;00m\u001b[38;5;21;01mclassification\u001b[39;00m \u001b[38;5;28;01mimport\u001b[39;00m LogisticRegression\n",
      "\u001b[0;31mModuleNotFoundError\u001b[0m: No module named 'pyspark'"
     ]
    }
   ],
   "source": [
    "!pip install pyspark\n",
    "import pyspark\n",
    "from pyspark.sql import SparkSession\n",
    "from pyspark.ml.classification import LogisticRegression\n",
    "from pyspark.ml.evaluation import BinaryClassificationEvaluator\n",
    "from pyspark.ml.linalg import Vectors\n",
    "from pyspark.ml.tuning import CrossValidator, ParamGridBuilder, CrossValidatorModel\n",
    "import tempfile"
   ]
  },
  {
   "cell_type": "code",
   "execution_count": null,
   "id": "77e1579c",
   "metadata": {
    "Rmd_chunk_options": "eval=FALSE, echo=TRUE",
    "kernel": "Python3",
    "tags": [
     "report_cell"
    ]
   },
   "outputs": [
    {
     "name": "stderr",
     "output_type": "stream",
     "text": [
      "Setting default log level to \"WARN\".\n",
      "To adjust logging level use sc.setLogLevel(newLevel). For SparkR, use setLogLevel(newLevel).\n",
      "24/01/11 21:04:13 WARN NativeCodeLoader: Unable to load native-hadoop library for your platform... using builtin-java classes where applicable\n"
     ]
    }
   ],
   "source": [
    "spark = SparkSession.builder.appName(\"CV_test\").getOrCreate()"
   ]
  },
  {
   "cell_type": "code",
   "execution_count": null,
   "id": "80457b98",
   "metadata": {
    "Rmd_chunk_options": "eval=FALSE, echo=TRUE",
    "kernel": "Python3",
    "tags": [
     "report_cell"
    ]
   },
   "outputs": [
    {
     "name": "stderr",
     "output_type": "stream",
     "text": [
      "24/01/11 21:04:28 WARN InstanceBuilder: Failed to load implementation from:dev.ludovic.netlib.blas.JNIBLAS\n",
      "                                                                                \r"
     ]
    },
    {
     "data": {
      "text/plain": [
       "0.8333333333333333"
      ]
     },
     "execution_count": 39,
     "metadata": {},
     "output_type": "execute_result"
    }
   ],
   "source": [
    "dataset = spark.createDataFrame(\n",
    "    [(Vectors.dense([0.0]), 0.0),\n",
    "     (Vectors.dense([0.4]), 1.0),\n",
    "     (Vectors.dense([0.5]), 0.0),\n",
    "     (Vectors.dense([0.6]), 1.0),\n",
    "     (Vectors.dense([1.0]), 1.0)] * 10,\n",
    "    [\"features\", \"label\"])\n",
    "lr = LogisticRegression()\n",
    "grid = ParamGridBuilder().addGrid(lr.maxIter, [0, 1]).build()\n",
    "evaluator = BinaryClassificationEvaluator()\n",
    "cv = CrossValidator(estimator=lr, estimatorParamMaps=grid, evaluator=evaluator,\n",
    "    parallelism=2)\n",
    "cvModel = cv.fit(dataset)\n",
    "cvModel.getNumFolds()\n",
    "cvModel.avgMetrics[0]\n",
    "evaluator.evaluate(cvModel.transform(dataset))"
   ]
  },
  {
   "cell_type": "code",
   "execution_count": null,
   "id": "0b8bf62f",
   "metadata": {
    "Rmd_chunk_options": "eval=FALSE, echo=TRUE",
    "kernel": "Python3",
    "tags": [
     "report_cell"
    ]
   },
   "outputs": [],
   "source": [
    "spark.stop()"
   ]
  },
  {
   "cell_type": "markdown",
   "id": "bc5ae714",
   "metadata": {},
   "source": [
    "#### Resampling  using h2o\n",
    "\n",
    "On H2O cross validation is embedded in the function calling so you don't need to worry about learning a new wrapper on top of your estimator.\n",
    "https://docs.h2o.ai/h2o/latest-stable/h2o-docs/cross-validation.html"
   ]
  },
  {
   "cell_type": "code",
   "execution_count": null,
   "id": "23d989a8",
   "metadata": {
    "Rmd_chunk_options": "eval=FALSE, echo=TRUE",
    "kernel": "Python3",
    "tags": [
     "report_cell"
    ]
   },
   "outputs": [],
   "source": [
    "#pip install requests\n",
    "#pip install tabulate\n",
    "#pip uninstall h2o\n",
    "#pip install -f http://h2o-release.s3.amazonaws.com/h2o/latest_stable_Py.html h2o\n",
    "# load packages and data\n",
    "import h2o\n",
    "from h2o.estimators.glm import H2OGeneralizedLinearEstimator"
   ]
  },
  {
   "cell_type": "markdown",
   "id": "6f467085",
   "metadata": {},
   "source": [
    "##### Starting H2O\n",
    "\n",
    "To use H2O you need to instantiate it."
   ]
  },
  {
   "cell_type": "code",
   "execution_count": null,
   "id": "3145b8ef",
   "metadata": {
    "Rmd_chunk_options": "eval=FALSE, echo=TRUE",
    "kernel": "Python3",
    "tags": [
     "report_cell"
    ]
   },
   "outputs": [
    {
     "name": "stdout",
     "output_type": "stream",
     "text": [
      "Checking whether there is an H2O instance running at http://localhost:54321..... not found.\n",
      "Attempting to start a local H2O server...\n",
      "  Java Version: java version \"1.8.0_361\"; Java(TM) SE Runtime Environment (build 1.8.0_361-b09); Java HotSpot(TM) 64-Bit Server VM (build 25.361-b09, mixed mode)\n",
      "  Starting server from /opt/homebrew/lib/python3.11/site-packages/h2o/backend/bin/h2o.jar\n",
      "  Ice root: /var/folders/r8/_9frrgnx0rq_kt6_r0yvgwlc0000gn/T/tmpbl2r93zb\n",
      "  JVM stdout: /var/folders/r8/_9frrgnx0rq_kt6_r0yvgwlc0000gn/T/tmpbl2r93zb/h2o_masanaoyajima_started_from_python.out\n",
      "  JVM stderr: /var/folders/r8/_9frrgnx0rq_kt6_r0yvgwlc0000gn/T/tmpbl2r93zb/h2o_masanaoyajima_started_from_python.err\n",
      "  Server is running at http://127.0.0.1:54321\n",
      "Connecting to H2O server at http://127.0.0.1:54321 ... successful.\n"
     ]
    },
    {
     "data": {
      "text/html": [
       "\n",
       "<style>\n",
       "\n",
       "#h2o-table-1.h2o-container {\n",
       "  overflow-x: auto;\n",
       "}\n",
       "#h2o-table-1 .h2o-table {\n",
       "  /* width: 100%; */\n",
       "  margin-top: 1em;\n",
       "  margin-bottom: 1em;\n",
       "}\n",
       "#h2o-table-1 .h2o-table caption {\n",
       "  white-space: nowrap;\n",
       "  caption-side: top;\n",
       "  text-align: left;\n",
       "  /* margin-left: 1em; */\n",
       "  margin: 0;\n",
       "  font-size: larger;\n",
       "}\n",
       "#h2o-table-1 .h2o-table thead {\n",
       "  white-space: nowrap; \n",
       "  position: sticky;\n",
       "  top: 0;\n",
       "  box-shadow: 0 -1px inset;\n",
       "}\n",
       "#h2o-table-1 .h2o-table tbody {\n",
       "  overflow: auto;\n",
       "}\n",
       "#h2o-table-1 .h2o-table th,\n",
       "#h2o-table-1 .h2o-table td {\n",
       "  text-align: right;\n",
       "  /* border: 1px solid; */\n",
       "}\n",
       "#h2o-table-1 .h2o-table tr:nth-child(even) {\n",
       "  /* background: #F5F5F5 */\n",
       "}\n",
       "\n",
       "</style>      \n",
       "<div id=\"h2o-table-1\" class=\"h2o-container\">\n",
       "  <table class=\"h2o-table\">\n",
       "    <caption></caption>\n",
       "    <thead></thead>\n",
       "    <tbody><tr><td>H2O_cluster_uptime:</td>\n",
       "<td>03 secs</td></tr>\n",
       "<tr><td>H2O_cluster_timezone:</td>\n",
       "<td>America/New_York</td></tr>\n",
       "<tr><td>H2O_data_parsing_timezone:</td>\n",
       "<td>UTC</td></tr>\n",
       "<tr><td>H2O_cluster_version:</td>\n",
       "<td>3.44.0.3</td></tr>\n",
       "<tr><td>H2O_cluster_version_age:</td>\n",
       "<td>22 days</td></tr>\n",
       "<tr><td>H2O_cluster_name:</td>\n",
       "<td>H2O_from_python_masanaoyajima_gs7xs1</td></tr>\n",
       "<tr><td>H2O_cluster_total_nodes:</td>\n",
       "<td>1</td></tr>\n",
       "<tr><td>H2O_cluster_free_memory:</td>\n",
       "<td>3.529 Gb</td></tr>\n",
       "<tr><td>H2O_cluster_total_cores:</td>\n",
       "<td>10</td></tr>\n",
       "<tr><td>H2O_cluster_allowed_cores:</td>\n",
       "<td>10</td></tr>\n",
       "<tr><td>H2O_cluster_status:</td>\n",
       "<td>locked, healthy</td></tr>\n",
       "<tr><td>H2O_connection_url:</td>\n",
       "<td>http://127.0.0.1:54321</td></tr>\n",
       "<tr><td>H2O_connection_proxy:</td>\n",
       "<td>{\"http\": null, \"https\": null}</td></tr>\n",
       "<tr><td>H2O_internal_security:</td>\n",
       "<td>False</td></tr>\n",
       "<tr><td>Python_version:</td>\n",
       "<td>3.11.3 final</td></tr></tbody>\n",
       "  </table>\n",
       "</div>\n"
      ],
      "text/plain": [
       "--------------------------  ------------------------------------\n",
       "H2O_cluster_uptime:         03 secs\n",
       "H2O_cluster_timezone:       America/New_York\n",
       "H2O_data_parsing_timezone:  UTC\n",
       "H2O_cluster_version:        3.44.0.3\n",
       "H2O_cluster_version_age:    22 days\n",
       "H2O_cluster_name:           H2O_from_python_masanaoyajima_gs7xs1\n",
       "H2O_cluster_total_nodes:    1\n",
       "H2O_cluster_free_memory:    3.529 Gb\n",
       "H2O_cluster_total_cores:    10\n",
       "H2O_cluster_allowed_cores:  10\n",
       "H2O_cluster_status:         locked, healthy\n",
       "H2O_connection_url:         http://127.0.0.1:54321\n",
       "H2O_connection_proxy:       {\"http\": null, \"https\": null}\n",
       "H2O_internal_security:      False\n",
       "Python_version:             3.11.3 final\n",
       "--------------------------  ------------------------------------"
      ]
     },
     "metadata": {},
     "output_type": "display_data"
    }
   ],
   "source": [
    "# nthreads specifies number of threads. -1 means use all the CPU cores.\n",
    "# max_mem_size specifies the maximum amount of RAM to use.\n",
    "localH2O= h2o.init(nthreads = -1, max_mem_size=\"4g\")"
   ]
  },
  {
   "cell_type": "markdown",
   "id": "b1b35a63",
   "metadata": {},
   "source": [
    "##### CV with  H2O"
   ]
  },
  {
   "cell_type": "code",
   "execution_count": null,
   "id": "70d69efa",
   "metadata": {
    "Rmd_chunk_options": "eval=FALSE, echo=TRUE",
    "kernel": "Python3",
    "tags": [
     "report_cell"
    ]
   },
   "outputs": [
    {
     "name": "stdout",
     "output_type": "stream",
     "text": [
      "Parse progress: |████████████████████████████████████████████████████████████████| (done) 100%\n",
      "glm Model Build progress: |██████████████████████████████████████████████████████| (done) 100%\n"
     ]
    },
    {
     "data": {
      "text/plain": [
       "0.7790697716207187"
      ]
     },
     "execution_count": 43,
     "metadata": {},
     "output_type": "execute_result"
    }
   ],
   "source": [
    "# Import the prostate dataset\n",
    "prostate = h2o.import_file(\"http://s3.amazonaws.com/h2o-public-test-data/smalldata/prostate/prostate.csv.zip\")\n",
    "\n",
    "# Set the predictor names and the response column name\n",
    "response = \"CAPSULE\"\n",
    "predictors = prostate.names[3:8]\n",
    "\n",
    "# Convert the response column to a factor\n",
    "prostate['CAPSULE'] = prostate['CAPSULE'].asfactor()\n",
    "\n",
    "# Train a GBM model setting nfolds to 5\n",
    "prostate_gbm = H2OGeneralizedLinearEstimator(nfolds = 5, seed = 1)\n",
    "prostate_gbm.train(x=predictors, y=response, training_frame=prostate)\n",
    "\n",
    "# AUC of cross-validated holdout predictions\n",
    "prostate_gbm.auc(xval=True)"
   ]
  },
  {
   "cell_type": "markdown",
   "id": "0515ba8c",
   "metadata": {},
   "source": [
    "##### Shut down H2O"
   ]
  },
  {
   "cell_type": "code",
   "execution_count": null,
   "id": "83132202",
   "metadata": {
    "Rmd_chunk_options": "eval=FALSE, echo=TRUE",
    "kernel": "Python3",
    "tags": [
     "report_cell"
    ]
   },
   "outputs": [
    {
     "name": "stdout",
     "output_type": "stream",
     "text": [
      "H2O session _sid_8dc7 closed.\n"
     ]
    }
   ],
   "source": [
    "h2o.cluster().shutdown(prompt =False)"
   ]
  }
 ],
 "metadata": {
  "Rmd_chunk_options": {
   "author": "Your Name Here",
   "date": "2024-1-30",
   "output": "html_document",
   "title": "Resampling"
  },
  "kernelspec": {
   "display_name": "Python 3 (ipykernel)",
   "language": "python",
   "name": "python3"
  },
  "language_info": {
   "codemirror_mode": {
    "name": "ipython",
    "version": 3
   },
   "file_extension": ".py",
   "mimetype": "text/x-python",
   "name": "python",
   "nbconvert_exporter": "python",
   "pygments_lexer": "ipython3",
   "version": "3.9.12"
  },
  "sos": {
   "kernels": [
    [
     "SoS",
     "sos",
     "",
     ""
    ],
    [
     "R",
     "ir",
     "",
     ""
    ],
    [
     "css",
     "css",
     "",
     ""
    ],
    [
     "Python3",
     "ir",
     "",
     ""
    ]
   ]
  }
 },
 "nbformat": 4,
 "nbformat_minor": 5
}
